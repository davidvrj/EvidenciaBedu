{
 "cells": [
  {
   "cell_type": "markdown",
   "metadata": {
    "id": "_3Vh6y1Z1NI6"
   },
   "source": [
    "# COVID-19: PROYECTO DE CIENCIA DE DATOS\n",
    "### BEDU-Procesamiento-de-Datos-con-Python-Santander\n",
    "#### **Integrantes:**  \n",
    "+ #### José David Vázquez Rojas  \n",
    "+ #### Gustavo Alejandro Garduño Macedo"
   ]
  },
  {
   "cell_type": "markdown",
   "metadata": {
    "id": "l-Se4VVK1NJH"
   },
   "source": [
    "###  1. Identificación de la problemática. \n"
   ]
  },
  {
   "cell_type": "markdown",
   "metadata": {
    "id": "DriBCVyD1NJI"
   },
   "source": [
    "#### a) Problemática (Resolver un problema o entenderlo)\n",
    "\n",
    " La problemática de salud generada por el COVID-19 en México\n",
    "\n",
    "Objetivos:\n",
    "\n",
    "De los datos proporcionados por la Secretaría de Salud y el departamento de epidemiología (DGE), mediante una buena recolección, limpieza y transformación se busca:\n",
    "\n",
    "- Lograr un mejor entendimiento de la problemática originada por el COVID-19 en México mediante análisis descriptivos y gráficos.\n",
    "- Identificar factores  inherentes a la población mexicana que sean significativos en el aumento o disminución de la mortalidad. (modelo de regresión logística)"
   ]
  },
  {
   "cell_type": "markdown",
   "metadata": {
    "id": "vG95zIKc1NJI"
   },
   "source": [
    "### b) Investigación y búsqueda de soluciones anteriores\n",
    "\n",
    "[Fuentes de información](https://www.notion.so/6be588cb306a4c5bab6b7146f6dd69f1)"
   ]
  },
  {
   "cell_type": "markdown",
   "metadata": {
    "id": "tuv2g2DF1NJI"
   },
   "source": [
    "**Ideas**\n",
    "\n",
    "- Dashboard-Tracker con información de importancia: Casos globales, Casos Activos, Tasa de incidencia, cociente de casos-fatalidad, tasa de pruebas, top de países por : muertes, casos activos, casos, tasa de mortalidad. Casos diarios\n",
    "- También estaría interesante observar que pasa con las pruebas y vacunas (lo cual es una problemática en México)\n",
    "- Predecir nuevos casos (series de tiempo) (Nota: Para ello tener mejor nociones de Confirmados, Recuperados y Muertos ) (Este problema de predicción es importante para controlar la ocupación hospitalaria una problemática en México )\n",
    "- Creo que la mejor idea dentro de las capacidades/conocimiento y habilidades es realizar únicamente un análisis descriptivo que  ayude a comprender la situación que vive en México en general y posiblemente predicciones para los nuevos casos usando series de tiempo u otros modelos (regresión logística, etc.) para identificar factores clínicos de riesgo que afecten en la mortalidad."
   ]
  },
  {
   "cell_type": "markdown",
   "metadata": {
    "id": "LyQprlgV1NJJ"
   },
   "source": [
    "### c) Resumen\n",
    "\n",
    "- ¿Qué problema identificaron?\n",
    "La base abierta obtenida del portal de Datos Abiertos de México, brinda una base estructurada y bien documentada, sin embargo, desde noviembre 2020 se ajustó para que tuvieran un diccionario de datos y por ende la base se tiene que ajustar a esto.\n",
    "- ¿Qué investigaron sobre el tema?\n",
    "Obtener el diccionario de datos no es intuitivo ni fácil de obtener, para ello, se tiene que indagar en otras páginas que tienen el diccionario descrito en el portal oficial de datos abiertos de México. Esto se debe a una mala organización en su accesibilidad. Aunque la descripción es fácil de obtener, los catalogos para todos los campos no.\n",
    "- ¿Qué soluciones se han intentado/hecho anteriormente para intentar entender/resolver el problema?\n",
    "Hay muchas propuestas para transformar la base y otras ya bien implementadas, sin embargo, optamos por tomar el reto de ignorar estas posibilidades y hacerlo con los conocimientos adquiridos de manipulación de datos para lograrlo."
   ]
  },
  {
   "cell_type": "markdown",
   "metadata": {
    "id": "15FpEOWQ1NJJ"
   },
   "source": [
    "### Base de datos\n",
    "\n",
    "Una fuente confiable y verificada es en el sitio oficial de datos abiertos Dirección General de Epidemiología para trabajar con el análisis:    \n",
    "\n",
    "[Datos Abiertos Bases Históricas](https://www.gob.mx/salud/documentos/datos-abiertos-bases-historicas-direccion-general-de-epidemiologia)"
   ]
  },
  {
   "cell_type": "markdown",
   "metadata": {
    "id": "cqMJwci81NJJ"
   },
   "source": [
    "### Preguntas de interés\n",
    "\n",
    "- Sin duda uno de los aspectos más interesantes es: ¿ Como se comporta el total de casos nuevos por día  a través del tiempo ? ¿Se podría predecir o dar un intervalo de confianza para días subsecuentes ? Sin duda esto sería una buena medida para predecir la demanda hospitalaria.\n",
    "- También seria de interés conocer: ¿Cuáles son los estados con más total de: casos, defunciones, recuperaciones, casos activos ? ¿Cuál es la tasa de mortalidad por estado? ¿Cuál es la tasa de incidencia por estado?\n",
    "- ¿ Existen factores (clínicos y no clínicos)  que sean significativos para predecir el riesgo (probabilidad) de mortalidad ?"
   ]
  },
  {
   "cell_type": "markdown",
   "metadata": {
    "id": "GfKaTrms1NJK"
   },
   "source": [
    "### Notas\n",
    "\n",
    "- La base de datos de epidemiología no se actualiza automáticamente, se suben nuevos archivos, por cada día, lo cual lo vuelve difícil de analizar\n",
    "- Habría ver que se puede hacer para combinarlas, o que información se podría sacar de 1 solo día\n",
    "- O bien solo enfocarse en la mundial de JHU y formular preguntas a partir de allí\n",
    "- La decisión de trabajar con la base de datos abiertos de México fue por que contenía mayor descripción en ella, sin embargo, es necesario trasnformarla"
   ]
  },
  {
   "cell_type": "code",
   "execution_count": 1,
   "metadata": {
    "id": "0NYjq0kw1NJL"
   },
   "outputs": [],
   "source": [
    "import pandas as pd\n",
    "import numpy as np \n",
    "import matplotlib.pyplot as plt\n",
    "from pprint import pprint"
   ]
  },
  {
   "cell_type": "markdown",
   "metadata": {
    "id": "V6jRU3DI1NJL"
   },
   "source": [
    "### Importar datos\n",
    "Los datos que usaremos para este proyecto se obtuvieron del portal de Datos Abiertos de la página oficial del Gobierno de México al corte del 28 de Febrero del 2021."
   ]
  },
  {
   "cell_type": "code",
   "execution_count": 2,
   "metadata": {
    "id": "f2joWZka1NJM"
   },
   "outputs": [],
   "source": [
    "datosCovid = pd.read_csv('210228COVID19MEXICO.csv',low_memory=False)"
   ]
  },
  {
   "cell_type": "markdown",
   "metadata": {
    "id": "sKCO7fMM1NJM"
   },
   "source": [
    "Haremos el conteo de registros de la base actual y el encabezado de la base"
   ]
  },
  {
   "cell_type": "code",
   "execution_count": 3,
   "metadata": {
    "id": "RSiboht91NJM",
    "outputId": "9c3b95a9-de78-40cd-977c-486cf1a3ed2e"
   },
   "outputs": [
    {
     "name": "stdout",
     "output_type": "stream",
     "text": [
      "RangeIndex(start=0, stop=5453322, step=1)\n",
      "(5453322, 40)\n"
     ]
    }
   ],
   "source": [
    "print(datosCovid.index)\n",
    "datosCovid.head()\n",
    "print(datosCovid.shape)"
   ]
  },
  {
   "cell_type": "markdown",
   "metadata": {
    "id": "YJ_7hBBP1NJO"
   },
   "source": [
    "Ahora observaremos los nombres de las columnas, notaremos que cuentan con varios campos que van desde la última actualización, datos personales del paciente, la determinación si dió positivo a Covid, cormobolidades del paciente y si se recuperó."
   ]
  },
  {
   "cell_type": "code",
   "execution_count": 4,
   "metadata": {
    "id": "lyCKmOg51NJO",
    "outputId": "463cba69-fa29-4f57-8d50-cac9f8a06c41"
   },
   "outputs": [
    {
     "name": "stdout",
     "output_type": "stream",
     "text": [
      "Index(['FECHA_ACTUALIZACION', 'ID_REGISTRO', 'ORIGEN', 'SECTOR', 'ENTIDAD_UM',\n",
      "       'SEXO', 'ENTIDAD_NAC', 'ENTIDAD_RES', 'MUNICIPIO_RES', 'TIPO_PACIENTE',\n",
      "       'FECHA_INGRESO', 'FECHA_SINTOMAS', 'FECHA_DEF', 'INTUBADO', 'NEUMONIA',\n",
      "       'EDAD', 'NACIONALIDAD', 'EMBARAZO', 'HABLA_LENGUA_INDIG', 'INDIGENA',\n",
      "       'DIABETES', 'EPOC', 'ASMA', 'INMUSUPR', 'HIPERTENSION', 'OTRA_COM',\n",
      "       'CARDIOVASCULAR', 'OBESIDAD', 'RENAL_CRONICA', 'TABAQUISMO',\n",
      "       'OTRO_CASO', 'TOMA_MUESTRA_LAB', 'RESULTADO_LAB',\n",
      "       'TOMA_MUESTRA_ANTIGENO', 'RESULTADO_ANTIGENO', 'CLASIFICACION_FINAL',\n",
      "       'MIGRANTE', 'PAIS_NACIONALIDAD', 'PAIS_ORIGEN', 'UCI'],\n",
      "      dtype='object')\n"
     ]
    }
   ],
   "source": [
    "pprint(datosCovid.columns)"
   ]
  },
  {
   "cell_type": "markdown",
   "metadata": {},
   "source": [
    "Antes de iniciar, quitaremos las columnas que no son de nuestro interes para los objetivos del proyecto"
   ]
  },
  {
   "cell_type": "code",
   "execution_count": 5,
   "metadata": {},
   "outputs": [],
   "source": [
    "datosCovid = datosCovid.drop(columns = [\"FECHA_ACTUALIZACION\",'ID_REGISTRO','MIGRANTE','PAIS_NACIONALIDAD','PAIS_ORIGEN'])"
   ]
  },
  {
   "cell_type": "markdown",
   "metadata": {
    "id": "oX8vPdqa1NJP"
   },
   "source": [
    "### Conversión de tipos de datos"
   ]
  },
  {
   "cell_type": "markdown",
   "metadata": {
    "id": "GrKu0j9f1NJP"
   },
   "source": [
    "Haremos la conversión correcta de los datos para tener un mejor manejo de ellos, por ejemplo, los campos de fechas las convertiremos a tipo Date, ID_Registro a string y otros campos que consideremos necesarios a un formato mejor para su manejo."
   ]
  },
  {
   "cell_type": "code",
   "execution_count": 6,
   "metadata": {
    "id": "R7ZDY5qN1NJP",
    "outputId": "4169ab9a-4a2f-40db-f7c5-2f910fc555a4"
   },
   "outputs": [
    {
     "data": {
      "text/plain": [
       "ORIGEN                    int64\n",
       "SECTOR                    int64\n",
       "ENTIDAD_UM                int64\n",
       "SEXO                      int64\n",
       "ENTIDAD_NAC               int64\n",
       "ENTIDAD_RES               int64\n",
       "MUNICIPIO_RES             int64\n",
       "TIPO_PACIENTE             int64\n",
       "FECHA_INGRESO            object\n",
       "FECHA_SINTOMAS           object\n",
       "FECHA_DEF                object\n",
       "INTUBADO                  int64\n",
       "NEUMONIA                  int64\n",
       "EDAD                      int64\n",
       "NACIONALIDAD              int64\n",
       "EMBARAZO                  int64\n",
       "HABLA_LENGUA_INDIG        int64\n",
       "INDIGENA                  int64\n",
       "DIABETES                  int64\n",
       "EPOC                      int64\n",
       "ASMA                      int64\n",
       "INMUSUPR                  int64\n",
       "HIPERTENSION              int64\n",
       "OTRA_COM                  int64\n",
       "CARDIOVASCULAR            int64\n",
       "OBESIDAD                  int64\n",
       "RENAL_CRONICA             int64\n",
       "TABAQUISMO                int64\n",
       "OTRO_CASO                 int64\n",
       "TOMA_MUESTRA_LAB          int64\n",
       "RESULTADO_LAB             int64\n",
       "TOMA_MUESTRA_ANTIGENO     int64\n",
       "RESULTADO_ANTIGENO        int64\n",
       "CLASIFICACION_FINAL       int64\n",
       "UCI                       int64\n",
       "dtype: object"
      ]
     },
     "execution_count": 6,
     "metadata": {},
     "output_type": "execute_result"
    }
   ],
   "source": [
    "datosCovid.dtypes"
   ]
  },
  {
   "cell_type": "code",
   "execution_count": 7,
   "metadata": {
    "id": "d4-RuyJf1NJP"
   },
   "outputs": [],
   "source": [
    "datosCovid.replace('9999-99-99','0000-00-00')\n",
    "datosCovid['FECHA_INGRESO']=pd.to_datetime(datosCovid['FECHA_INGRESO'].astype(str), format='%Y-%m-%d')\n",
    "datosCovid['FECHA_SINTOMAS']=pd.to_datetime(datosCovid['FECHA_SINTOMAS'].astype(str), format='%Y-%m-%d')"
   ]
  },
  {
   "cell_type": "code",
   "execution_count": 8,
   "metadata": {
    "id": "BwOy5vss1NJQ",
    "outputId": "156e754f-a203-4aed-ffc4-f48d1e8ec6f3"
   },
   "outputs": [
    {
     "data": {
      "text/plain": [
       "ORIGEN                            int64\n",
       "SECTOR                            int64\n",
       "ENTIDAD_UM                        int64\n",
       "SEXO                              int64\n",
       "ENTIDAD_NAC                       int64\n",
       "ENTIDAD_RES                       int64\n",
       "MUNICIPIO_RES                     int64\n",
       "TIPO_PACIENTE                     int64\n",
       "FECHA_INGRESO            datetime64[ns]\n",
       "FECHA_SINTOMAS           datetime64[ns]\n",
       "FECHA_DEF                        object\n",
       "INTUBADO                          int64\n",
       "NEUMONIA                          int64\n",
       "EDAD                              int64\n",
       "NACIONALIDAD                      int64\n",
       "EMBARAZO                          int64\n",
       "HABLA_LENGUA_INDIG                int64\n",
       "INDIGENA                          int64\n",
       "DIABETES                          int64\n",
       "EPOC                              int64\n",
       "ASMA                              int64\n",
       "INMUSUPR                          int64\n",
       "HIPERTENSION                      int64\n",
       "OTRA_COM                          int64\n",
       "CARDIOVASCULAR                    int64\n",
       "OBESIDAD                          int64\n",
       "RENAL_CRONICA                     int64\n",
       "TABAQUISMO                        int64\n",
       "OTRO_CASO                         int64\n",
       "TOMA_MUESTRA_LAB                  int64\n",
       "RESULTADO_LAB                     int64\n",
       "TOMA_MUESTRA_ANTIGENO             int64\n",
       "RESULTADO_ANTIGENO                int64\n",
       "CLASIFICACION_FINAL               int64\n",
       "UCI                               int64\n",
       "dtype: object"
      ]
     },
     "execution_count": 8,
     "metadata": {},
     "output_type": "execute_result"
    }
   ],
   "source": [
    "datosCovid.dtypes"
   ]
  },
  {
   "cell_type": "markdown",
   "metadata": {
    "id": "sRQVFr1m1NJQ"
   },
   "source": [
    "### Limpieza de datos"
   ]
  },
  {
   "cell_type": "markdown",
   "metadata": {
    "id": "cESND7RL1NJQ"
   },
   "source": [
    "Como es una base muy grande, nuestra sorpresa fue que no se encontraba ningún dato vacío,sin embargo, los campos fueron llenados con valores diferentes lo que támbien resulta complicado determinar la limpieza, para esto támbien nos es útil el diccionario de datos donde nos daremos cuenta que hay algunos valores que los podremos homogenizar para tener un mayor control sobre ellos"
   ]
  },
  {
   "cell_type": "code",
   "execution_count": 9,
   "metadata": {
    "id": "oLWl6B4S1NJQ",
    "outputId": "f4b1722f-4331-4800-c29c-1b4649855c4d"
   },
   "outputs": [
    {
     "data": {
      "text/plain": [
       "ORIGEN                   0\n",
       "SECTOR                   0\n",
       "ENTIDAD_UM               0\n",
       "SEXO                     0\n",
       "ENTIDAD_NAC              0\n",
       "ENTIDAD_RES              0\n",
       "MUNICIPIO_RES            0\n",
       "TIPO_PACIENTE            0\n",
       "FECHA_INGRESO            0\n",
       "FECHA_SINTOMAS           0\n",
       "FECHA_DEF                0\n",
       "INTUBADO                 0\n",
       "NEUMONIA                 0\n",
       "EDAD                     0\n",
       "NACIONALIDAD             0\n",
       "EMBARAZO                 0\n",
       "HABLA_LENGUA_INDIG       0\n",
       "INDIGENA                 0\n",
       "DIABETES                 0\n",
       "EPOC                     0\n",
       "ASMA                     0\n",
       "INMUSUPR                 0\n",
       "HIPERTENSION             0\n",
       "OTRA_COM                 0\n",
       "CARDIOVASCULAR           0\n",
       "OBESIDAD                 0\n",
       "RENAL_CRONICA            0\n",
       "TABAQUISMO               0\n",
       "OTRO_CASO                0\n",
       "TOMA_MUESTRA_LAB         0\n",
       "RESULTADO_LAB            0\n",
       "TOMA_MUESTRA_ANTIGENO    0\n",
       "RESULTADO_ANTIGENO       0\n",
       "CLASIFICACION_FINAL      0\n",
       "UCI                      0\n",
       "dtype: int64"
      ]
     },
     "execution_count": 9,
     "metadata": {},
     "output_type": "execute_result"
    }
   ],
   "source": [
    "datosCovid.isna().sum()"
   ]
  },
  {
   "cell_type": "code",
   "execution_count": 10,
   "metadata": {
    "id": "iz4Gw7r81NJR",
    "outputId": "725b36db-7512-43c7-c964-e99e6fd4d648"
   },
   "outputs": [
    {
     "data": {
      "text/plain": [
       "2     2766514\n",
       "97    2627696\n",
       "1       39911\n",
       "98      19198\n",
       "99          3\n",
       "Name: EMBARAZO, dtype: int64"
      ]
     },
     "execution_count": 10,
     "metadata": {},
     "output_type": "execute_result"
    }
   ],
   "source": [
    "datosCovid['EMBARAZO'].value_counts()"
   ]
  },
  {
   "cell_type": "markdown",
   "metadata": {
    "id": "cDR2SbsN1NJR"
   },
   "source": [
    "Si hacemos la prueba del conteo de valores por cada campo, notamos que los únicos valores que se obtienen son de 2,97,1,98 y 99. Cosa muy inusual, el diccionario de datos nos menciona lo siguiente:  \n",
    "\n",
    "![image.png](imagen.png)\n"
   ]
  },
  {
   "cell_type": "markdown",
   "metadata": {
    "id": "ZzrQ6sS41NJR"
   },
   "source": [
    "Para el caso del nombre de los estados, es indispensable tenerlos con su nombre original, para ello recurriremos a otro conjunto de datos.  \n",
    "Importamos el catalogo de estados de México proporcionado por el portal de datos abiertos para sustituirlos por los valores en la base de datos actual del Covid para tener un mejor manejo de ellos"
   ]
  },
  {
   "cell_type": "code",
   "execution_count": 11,
   "metadata": {
    "id": "3UEtupZJ1NJR",
    "outputId": "ee981056-5a55-48f9-de91-f757d1b3c78b"
   },
   "outputs": [
    {
     "data": {
      "text/html": [
       "<div>\n",
       "<style scoped>\n",
       "    .dataframe tbody tr th:only-of-type {\n",
       "        vertical-align: middle;\n",
       "    }\n",
       "\n",
       "    .dataframe tbody tr th {\n",
       "        vertical-align: top;\n",
       "    }\n",
       "\n",
       "    .dataframe thead th {\n",
       "        text-align: right;\n",
       "    }\n",
       "</style>\n",
       "<table border=\"1\" class=\"dataframe\">\n",
       "  <thead>\n",
       "    <tr style=\"text-align: right;\">\n",
       "      <th></th>\n",
       "      <th>CLAVE_ENTIDAD</th>\n",
       "      <th>ENTIDAD_FEDERATIVA</th>\n",
       "      <th>ABREVIATURA</th>\n",
       "    </tr>\n",
       "  </thead>\n",
       "  <tbody>\n",
       "    <tr>\n",
       "      <th>0</th>\n",
       "      <td>1</td>\n",
       "      <td>AGUASCALIENTES</td>\n",
       "      <td>AS</td>\n",
       "    </tr>\n",
       "    <tr>\n",
       "      <th>1</th>\n",
       "      <td>2</td>\n",
       "      <td>BAJA CALIFORNIA</td>\n",
       "      <td>BC</td>\n",
       "    </tr>\n",
       "    <tr>\n",
       "      <th>2</th>\n",
       "      <td>3</td>\n",
       "      <td>BAJA CALIFORNIA SUR</td>\n",
       "      <td>BS</td>\n",
       "    </tr>\n",
       "    <tr>\n",
       "      <th>3</th>\n",
       "      <td>4</td>\n",
       "      <td>CAMPECHE</td>\n",
       "      <td>CC</td>\n",
       "    </tr>\n",
       "    <tr>\n",
       "      <th>4</th>\n",
       "      <td>5</td>\n",
       "      <td>COAHUILA DE ZARAGOZA</td>\n",
       "      <td>CL</td>\n",
       "    </tr>\n",
       "  </tbody>\n",
       "</table>\n",
       "</div>"
      ],
      "text/plain": [
       "   CLAVE_ENTIDAD    ENTIDAD_FEDERATIVA ABREVIATURA\n",
       "0              1        AGUASCALIENTES          AS\n",
       "1              2       BAJA CALIFORNIA          BC\n",
       "2              3   BAJA CALIFORNIA SUR          BS\n",
       "3              4              CAMPECHE          CC\n",
       "4              5  COAHUILA DE ZARAGOZA          CL"
      ]
     },
     "execution_count": 11,
     "metadata": {},
     "output_type": "execute_result"
    }
   ],
   "source": [
    "entidades=pd.read_csv('catalogoEstados.csv')\n",
    "entidades.head()"
   ]
  },
  {
   "cell_type": "code",
   "execution_count": 12,
   "metadata": {
    "id": "lW3N0tVk1NJS",
    "outputId": "82f75c0d-ddd6-4894-8edc-c5a4c5d9f618"
   },
   "outputs": [
    {
     "data": {
      "text/plain": [
       "{1: 'AGUASCALIENTES',\n",
       " 2: 'BAJA CALIFORNIA',\n",
       " 3: 'BAJA CALIFORNIA SUR',\n",
       " 4: 'CAMPECHE',\n",
       " 5: 'COAHUILA DE ZARAGOZA',\n",
       " 6: 'COLIMA',\n",
       " 7: 'CHIAPAS',\n",
       " 8: 'CHIHUAHUA',\n",
       " 9: 'CIUDAD DE MÉXICO',\n",
       " 10: 'DURANGO',\n",
       " 11: 'GUANAJUATO',\n",
       " 12: 'GUERRERO',\n",
       " 13: 'HIDALGO',\n",
       " 14: 'JALISCO',\n",
       " 15: 'MÉXICO',\n",
       " 16: 'MICHOACÁN DE OCAMPO',\n",
       " 17: 'MORELOS',\n",
       " 18: 'NAYARIT',\n",
       " 19: 'NUEVO LEÓN',\n",
       " 20: 'OAXACA',\n",
       " 21: 'PUEBLA',\n",
       " 22: 'QUERÉTARO',\n",
       " 23: 'QUINTANA ROO',\n",
       " 24: 'SAN LUIS POTOSÍ',\n",
       " 25: 'SINALOA',\n",
       " 26: 'SONORA',\n",
       " 27: 'TABASCO',\n",
       " 28: 'TAMAULIPAS',\n",
       " 29: 'TLAXCALA',\n",
       " 30: 'VERACRUZ DE IGNACIO DE LA LLAVE',\n",
       " 31: 'YUCATÁN',\n",
       " 32: 'ZACATECAS',\n",
       " 33: 'ESTADOS UNIDOS DE AMERICA',\n",
       " 34: 'OTROS PAISES DE LATINOAMERICA',\n",
       " 35: 'OTROS PAISES',\n",
       " 97: 'NO APLICA',\n",
       " 98: 'SE IGNORA',\n",
       " 99: 'NO ESPECIFICADO'}"
      ]
     },
     "execution_count": 12,
     "metadata": {},
     "output_type": "execute_result"
    }
   ],
   "source": [
    "entidadesEstados={}\n",
    "for llave,valor in zip(entidades['CLAVE_ENTIDAD'],entidades['ENTIDAD_FEDERATIVA']):\n",
    "     entidadesEstados[llave] = valor\n",
    "entidadesEstados"
   ]
  },
  {
   "cell_type": "markdown",
   "metadata": {
    "id": "Ranz_hxG1NJS"
   },
   "source": [
    "Actualizamos los campos de las entidades de México en la base y checamos que hayan sido afectados"
   ]
  },
  {
   "cell_type": "code",
   "execution_count": 13,
   "metadata": {
    "id": "ydXni8Io1NJT"
   },
   "outputs": [],
   "source": [
    "datosCovid['ENTIDAD_NAC']=datosCovid['ENTIDAD_NAC'].replace(entidadesEstados)\n",
    "datosCovid['ENTIDAD_RES']=datosCovid['ENTIDAD_RES'].replace(entidadesEstados)\n",
    "datosCovid['ENTIDAD_UM']=datosCovid['ENTIDAD_UM'].replace(entidadesEstados)"
   ]
  },
  {
   "cell_type": "code",
   "execution_count": 14,
   "metadata": {
    "id": "KlOUMlFi1NJT",
    "outputId": "3b3c9651-c341-44e7-9529-27c229a60f79"
   },
   "outputs": [
    {
     "data": {
      "text/plain": [
       "CIUDAD DE MÉXICO                   1752425\n",
       "MÉXICO                              588080\n",
       "GUANAJUATO                          259069\n",
       "NUEVO LEÓN                          210522\n",
       "JALISCO                             181652\n",
       "PUEBLA                              180949\n",
       "VERACRUZ DE IGNACIO DE LA LLAVE     173356\n",
       "TABASCO                             169672\n",
       "COAHUILA DE ZARAGOZA                151859\n",
       "SAN LUIS POTOSÍ                     141475\n",
       "MICHOACÁN DE OCAMPO                 123241\n",
       "TAMAULIPAS                          122287\n",
       "SONORA                              117513\n",
       "GUERRERO                            104420\n",
       "OAXACA                              103864\n",
       "SINALOA                              98121\n",
       "YUCATÁN                              87485\n",
       "MORELOS                              87247\n",
       "DURANGO                              78632\n",
       "HIDALGO                              76360\n",
       "CHIHUAHUA                            74072\n",
       "CHIAPAS                              73990\n",
       "QUERÉTARO                            73386\n",
       "AGUASCALIENTES                       67609\n",
       "BAJA CALIFORNIA                      67362\n",
       "ZACATECAS                            64508\n",
       "TLAXCALA                             52579\n",
       "BAJA CALIFORNIA SUR                  44445\n",
       "NAYARIT                              31428\n",
       "CAMPECHE                             28661\n",
       "NO ESPECIFICADO                      25251\n",
       "QUINTANA ROO                         23255\n",
       "COLIMA                               18547\n",
       "Name: ENTIDAD_NAC, dtype: int64"
      ]
     },
     "execution_count": 14,
     "metadata": {},
     "output_type": "execute_result"
    }
   ],
   "source": [
    "datosCovid['ENTIDAD_NAC'].value_counts()"
   ]
  },
  {
   "cell_type": "markdown",
   "metadata": {},
   "source": [
    "Ahora, haremos lo mismo la columna de municipios, no podemos conformarnos con solo tener las llaves de los municipios, así que desde la página principla del portal, obtenemos una base con el diccionario de ellos. De igual manera, agarramos las columnas de la clave y el nombre del municipio para hacer un diccionario y sustituir los valores en el DataFrame de datosCovid con el diccionario obtenido."
   ]
  },
  {
   "cell_type": "code",
   "execution_count": 15,
   "metadata": {},
   "outputs": [],
   "source": [
    "municipios=pd.read_csv('catalogoMunicipios.csv')\n",
    "entidadesMunicipios={}\n",
    "for llave,valor in zip(municipios['CLAVE_MUNICIPIO'],municipios['MUNICIPIO']):\n",
    "     entidadesMunicipios[int(llave)] = valor\n",
    "datosCovid['MUNICIPIO_RES']=datosCovid['MUNICIPIO_RES'].replace(entidadesMunicipios)"
   ]
  },
  {
   "cell_type": "code",
   "execution_count": 16,
   "metadata": {},
   "outputs": [
    {
     "data": {
      "text/plain": [
       "CONCEPCIÓN DEL ORO           394872\n",
       "CALERA                       296737\n",
       "FRESNILLO                    212152\n",
       "APULCO                       197344\n",
       "BENITO JUÁREZ                194822\n",
       "                              ...  \n",
       "SAN PABLO MACUILTIANGUIS          1\n",
       "SAN PEDRO TEOZACOALCO             1\n",
       "SANTO DOMINGO ROAYAGA             1\n",
       "SAN PEDRO MÁRTIR YUCUXACO         1\n",
       "SANTA MARÍA NDUAYACO              1\n",
       "Name: MUNICIPIO_RES, Length: 539, dtype: int64"
      ]
     },
     "execution_count": 16,
     "metadata": {},
     "output_type": "execute_result"
    }
   ],
   "source": [
    "datosCovid['MUNICIPIO_RES'].value_counts()"
   ]
  },
  {
   "cell_type": "markdown",
   "metadata": {},
   "source": [
    "Ya hemos cambiado los estados y municipios para tener los nombres reales al agruparlos y hacer análisis exploratori y así lograr un mejor entendimiento de ellos. Para los demás campos, haremos el diccionario manualmente obtenido de:\n",
    "https://serendipia.digital/2020/04/guia-para-entender-los-datos-de-covid-19-de-la-secretaria-de-salud-de-mexico/"
   ]
  },
  {
   "cell_type": "code",
   "execution_count": 32,
   "metadata": {
    "id": "VBM04UQr1NJU"
   },
   "outputs": [],
   "source": [
    "catalogoSexo={\n",
    "    1:'MUJER',\n",
    "    2:'HOMBRE',\n",
    "    99:'NO ESPECIFICADO'\n",
    "}\n",
    "catalogoOrigen={\n",
    "    1:'USMER',\n",
    "    2:'FUERA DE USMER',\n",
    "    99:'NO ESPECIFICADO'\n",
    "}\n",
    "catalogoSector={\n",
    "    1:'CRUZ ROJA',\n",
    "    2:'DIF',\n",
    "    3:'ESTATAL',\n",
    "    4:'IMSS',\n",
    "    5:'IMSS-BIENESTAR',\n",
    "    6:'ISSSTE',\n",
    "    7:'MUNICIPAL',\n",
    "    8:'PEMEX',\n",
    "    9:'PRIVADA',\n",
    "    10:'SEDENA',\n",
    "    11:'SEMAR',\n",
    "    12:'SSA',\n",
    "    13:'UNIVERSITARIO',\n",
    "    99:'NO ESPECIFICADO'\n",
    "}\n",
    "\n",
    "catalogoPaciente={\n",
    "    1:'AMBULATORIO',\n",
    "    2:'HOSPITALIZADO',\n",
    "    99:'NO ESPECIFICADO'\n",
    "}\n",
    "catalogoSiNo={\n",
    "    1:'SI',\n",
    "    2:'NO',\n",
    "    97:'NO APLICA',\n",
    "    98:'SE IGNORA',\n",
    "    99:'NO ESPECIFICADO'\n",
    "}\n",
    "catalogoNacionalidad={\n",
    "    1:'MEXICANA',\n",
    "    2:'EXTRANJERA',\n",
    "    99:'NO ESPECIFICADO'\n",
    "}\n",
    "catalogoResultadoLab={\n",
    "    1:'POSITIVO A SARS-COV-2',\n",
    "    2:'NO POSITIVO A SARS-COV-2',\n",
    "    3:'RESULTADO PENDIENTE',\n",
    "    4:'RESULTADO NO ADECUADO ',\n",
    "    97:'NO APLICA (CASO SIN MUESTRA)',\n",
    "    99:'NO ESPECIFICADO'\n",
    "}\n",
    "\n",
    "catalogoResultadoAntigeno={\n",
    "    1:'POSITIVO A SARS-COV-2',\n",
    "    2:'NEGATIVO A SARS-COV-2',\n",
    "    97:'NO APLICA (CASO SIN MUESTRA)'\n",
    "}\n",
    "\n",
    "catalaogoClasificacionFinal={\n",
    "    2:'CASO DE SARS-COV-2  CONFIRMADO',\n",
    "    1:'CASO DE SARS-COV-2  CONFIRMADO',\n",
    "    3:'CASO DE SARS-COV-2  CONFIRMADO',\n",
    "    4:'INVÁLIDO POR LABORATORIO',\n",
    "    5:'NO REALIZADO POR LABORATORIO',\n",
    "    6:'CASO SOSPECHOSO',\n",
    "    7:'NEGATIVO A SARS-COV-2'\n",
    "}\n"
   ]
  },
  {
   "cell_type": "markdown",
   "metadata": {
    "id": "W6P7hcIx1NJU"
   },
   "source": [
    "Ahora, sustituiremos los valores en los campos correspondientes:"
   ]
  },
  {
   "cell_type": "code",
   "execution_count": 33,
   "metadata": {
    "id": "G60iXxQF1NJU"
   },
   "outputs": [],
   "source": [
    "datosCovid['SEXO']=datosCovid['SEXO'].replace(catalogoSexo)\n",
    "datosCovid['ORIGEN']=datosCovid['ORIGEN'].replace(catalogoOrigen)\n",
    "datosCovid['SECTOR']=datosCovid['SECTOR'].replace(catalogoSector)\n",
    "datosCovid['TIPO_PACIENTE']=datosCovid['TIPO_PACIENTE'].replace(catalogoPaciente)\n",
    "datosCovid['NACIONALIDAD']=datosCovid['NACIONALIDAD'].replace(catalogoNacionalidad)\n",
    "datosCovid['TOMA_MUESTRA_LAB']=datosCovid['TOMA_MUESTRA_LAB'].replace(catalogoResultadoLab)\n",
    "datosCovid['RESULTADO_LAB']=datosCovid['RESULTADO_LAB'].replace(catalogoResultadoLab)\n",
    "datosCovid['TOMA_MUESTRA_ANTIGENO']=datosCovid['TOMA_MUESTRA_ANTIGENO'].replace(catalogoResultadoAntigeno)\n",
    "datosCovid['RESULTADO_ANTIGENO']=datosCovid['RESULTADO_ANTIGENO'].replace(catalogoResultadoAntigeno)\n",
    "datosCovid['CLASIFICACION_FINAL']=datosCovid['CLASIFICACION_FINAL'].replace(catalaogoClasificacionFinal)"
   ]
  },
  {
   "cell_type": "code",
   "execution_count": 19,
   "metadata": {
    "id": "q55PYo2p1NJU"
   },
   "outputs": [],
   "source": [
    "datosCovid=datosCovid.replace(catalogoSiNo)"
   ]
  },
  {
   "cell_type": "code",
   "execution_count": 20,
   "metadata": {
    "id": "4kwfnFci1NJU"
   },
   "outputs": [
    {
     "data": {
      "text/html": [
       "<div>\n",
       "<style scoped>\n",
       "    .dataframe tbody tr th:only-of-type {\n",
       "        vertical-align: middle;\n",
       "    }\n",
       "\n",
       "    .dataframe tbody tr th {\n",
       "        vertical-align: top;\n",
       "    }\n",
       "\n",
       "    .dataframe thead th {\n",
       "        text-align: right;\n",
       "    }\n",
       "</style>\n",
       "<table border=\"1\" class=\"dataframe\">\n",
       "  <thead>\n",
       "    <tr style=\"text-align: right;\">\n",
       "      <th></th>\n",
       "      <th>ORIGEN</th>\n",
       "      <th>SECTOR</th>\n",
       "      <th>ENTIDAD_UM</th>\n",
       "      <th>SEXO</th>\n",
       "      <th>ENTIDAD_NAC</th>\n",
       "      <th>ENTIDAD_RES</th>\n",
       "      <th>MUNICIPIO_RES</th>\n",
       "      <th>TIPO_PACIENTE</th>\n",
       "      <th>FECHA_INGRESO</th>\n",
       "      <th>FECHA_SINTOMAS</th>\n",
       "      <th>...</th>\n",
       "      <th>OBESIDAD</th>\n",
       "      <th>RENAL_CRONICA</th>\n",
       "      <th>TABAQUISMO</th>\n",
       "      <th>OTRO_CASO</th>\n",
       "      <th>TOMA_MUESTRA_LAB</th>\n",
       "      <th>RESULTADO_LAB</th>\n",
       "      <th>TOMA_MUESTRA_ANTIGENO</th>\n",
       "      <th>RESULTADO_ANTIGENO</th>\n",
       "      <th>CLASIFICACION_FINAL</th>\n",
       "      <th>UCI</th>\n",
       "    </tr>\n",
       "  </thead>\n",
       "  <tbody>\n",
       "    <tr>\n",
       "      <th>0</th>\n",
       "      <td>USMER</td>\n",
       "      <td>SSA</td>\n",
       "      <td>CIUDAD DE MÉXICO</td>\n",
       "      <td>HOMBRE</td>\n",
       "      <td>CIUDAD DE MÉXICO</td>\n",
       "      <td>CIUDAD DE MÉXICO</td>\n",
       "      <td>GENARO CODINA</td>\n",
       "      <td>AMBULATORIO</td>\n",
       "      <td>2020-10-16</td>\n",
       "      <td>2020-10-16</td>\n",
       "      <td>...</td>\n",
       "      <td>NO</td>\n",
       "      <td>NO</td>\n",
       "      <td>NO</td>\n",
       "      <td>NO</td>\n",
       "      <td>NO POSITIVO A SARS-COV-2</td>\n",
       "      <td>NO APLICA (CASO SIN MUESTRA)</td>\n",
       "      <td>NEGATIVO A SARS-COV-2</td>\n",
       "      <td>NO APLICA (CASO SIN MUESTRA)</td>\n",
       "      <td>CASO DE COVID-19 CONFIRMADO POR ASOCIACIÓN CLÍ...</td>\n",
       "      <td>NO APLICA</td>\n",
       "    </tr>\n",
       "    <tr>\n",
       "      <th>1</th>\n",
       "      <td>USMER</td>\n",
       "      <td>SSA</td>\n",
       "      <td>QUINTANA ROO</td>\n",
       "      <td>MUJER</td>\n",
       "      <td>QUINTANA ROO</td>\n",
       "      <td>QUINTANA ROO</td>\n",
       "      <td>BENITO JUÁREZ</td>\n",
       "      <td>HOSPITALIZADO</td>\n",
       "      <td>2020-07-20</td>\n",
       "      <td>2020-07-17</td>\n",
       "      <td>...</td>\n",
       "      <td>SI</td>\n",
       "      <td>NO</td>\n",
       "      <td>NO</td>\n",
       "      <td>SI</td>\n",
       "      <td>NO POSITIVO A SARS-COV-2</td>\n",
       "      <td>NO APLICA (CASO SIN MUESTRA)</td>\n",
       "      <td>NEGATIVO A SARS-COV-2</td>\n",
       "      <td>NO APLICA (CASO SIN MUESTRA)</td>\n",
       "      <td>CASO DE COVID-19 CONFIRMADO POR COMITÉ DE  DIC...</td>\n",
       "      <td>SI</td>\n",
       "    </tr>\n",
       "    <tr>\n",
       "      <th>2</th>\n",
       "      <td>USMER</td>\n",
       "      <td>SSA</td>\n",
       "      <td>QUERÉTARO</td>\n",
       "      <td>HOMBRE</td>\n",
       "      <td>SAN LUIS POTOSÍ</td>\n",
       "      <td>QUERÉTARO</td>\n",
       "      <td>CHALCHIHUITES</td>\n",
       "      <td>AMBULATORIO</td>\n",
       "      <td>2021-01-05</td>\n",
       "      <td>2021-01-05</td>\n",
       "      <td>...</td>\n",
       "      <td>SE IGNORA</td>\n",
       "      <td>NO</td>\n",
       "      <td>NO</td>\n",
       "      <td>NO</td>\n",
       "      <td>NO POSITIVO A SARS-COV-2</td>\n",
       "      <td>NO APLICA (CASO SIN MUESTRA)</td>\n",
       "      <td>NEGATIVO A SARS-COV-2</td>\n",
       "      <td>NO APLICA (CASO SIN MUESTRA)</td>\n",
       "      <td>CASO SOSPECHOSO</td>\n",
       "      <td>NO APLICA</td>\n",
       "    </tr>\n",
       "    <tr>\n",
       "      <th>3</th>\n",
       "      <td>USMER</td>\n",
       "      <td>SSA</td>\n",
       "      <td>CIUDAD DE MÉXICO</td>\n",
       "      <td>MUJER</td>\n",
       "      <td>CIUDAD DE MÉXICO</td>\n",
       "      <td>CIUDAD DE MÉXICO</td>\n",
       "      <td>FRESNILLO</td>\n",
       "      <td>AMBULATORIO</td>\n",
       "      <td>2020-10-15</td>\n",
       "      <td>2020-10-15</td>\n",
       "      <td>...</td>\n",
       "      <td>NO</td>\n",
       "      <td>NO</td>\n",
       "      <td>NO</td>\n",
       "      <td>SI</td>\n",
       "      <td>POSITIVO A SARS-COV-2</td>\n",
       "      <td>NO POSITIVO A SARS-COV-2</td>\n",
       "      <td>NEGATIVO A SARS-COV-2</td>\n",
       "      <td>NO APLICA (CASO SIN MUESTRA)</td>\n",
       "      <td>NEGATIVO A SARS-COV-2</td>\n",
       "      <td>NO APLICA</td>\n",
       "    </tr>\n",
       "    <tr>\n",
       "      <th>4</th>\n",
       "      <td>USMER</td>\n",
       "      <td>SSA</td>\n",
       "      <td>CIUDAD DE MÉXICO</td>\n",
       "      <td>HOMBRE</td>\n",
       "      <td>CIUDAD DE MÉXICO</td>\n",
       "      <td>CIUDAD DE MÉXICO</td>\n",
       "      <td>APULCO</td>\n",
       "      <td>AMBULATORIO</td>\n",
       "      <td>2020-04-16</td>\n",
       "      <td>2020-04-10</td>\n",
       "      <td>...</td>\n",
       "      <td>NO</td>\n",
       "      <td>NO</td>\n",
       "      <td>NO</td>\n",
       "      <td>NO</td>\n",
       "      <td>NO POSITIVO A SARS-COV-2</td>\n",
       "      <td>NO APLICA (CASO SIN MUESTRA)</td>\n",
       "      <td>NEGATIVO A SARS-COV-2</td>\n",
       "      <td>NO APLICA (CASO SIN MUESTRA)</td>\n",
       "      <td>CASO SOSPECHOSO</td>\n",
       "      <td>NO APLICA</td>\n",
       "    </tr>\n",
       "    <tr>\n",
       "      <th>...</th>\n",
       "      <td>...</td>\n",
       "      <td>...</td>\n",
       "      <td>...</td>\n",
       "      <td>...</td>\n",
       "      <td>...</td>\n",
       "      <td>...</td>\n",
       "      <td>...</td>\n",
       "      <td>...</td>\n",
       "      <td>...</td>\n",
       "      <td>...</td>\n",
       "      <td>...</td>\n",
       "      <td>...</td>\n",
       "      <td>...</td>\n",
       "      <td>...</td>\n",
       "      <td>...</td>\n",
       "      <td>...</td>\n",
       "      <td>...</td>\n",
       "      <td>...</td>\n",
       "      <td>...</td>\n",
       "      <td>...</td>\n",
       "      <td>...</td>\n",
       "    </tr>\n",
       "    <tr>\n",
       "      <th>5453317</th>\n",
       "      <td>FUERA DE USMER</td>\n",
       "      <td>IMSS</td>\n",
       "      <td>JALISCO</td>\n",
       "      <td>MUJER</td>\n",
       "      <td>JALISCO</td>\n",
       "      <td>JALISCO</td>\n",
       "      <td>TAHDZIÚ</td>\n",
       "      <td>HOSPITALIZADO</td>\n",
       "      <td>2021-02-26</td>\n",
       "      <td>2021-02-20</td>\n",
       "      <td>...</td>\n",
       "      <td>SE IGNORA</td>\n",
       "      <td>SE IGNORA</td>\n",
       "      <td>SE IGNORA</td>\n",
       "      <td>NO</td>\n",
       "      <td>POSITIVO A SARS-COV-2</td>\n",
       "      <td>RESULTADO PENDIENTE</td>\n",
       "      <td>NEGATIVO A SARS-COV-2</td>\n",
       "      <td>NO APLICA (CASO SIN MUESTRA)</td>\n",
       "      <td>CASO SOSPECHOSO</td>\n",
       "      <td>NO</td>\n",
       "    </tr>\n",
       "    <tr>\n",
       "      <th>5453318</th>\n",
       "      <td>FUERA DE USMER</td>\n",
       "      <td>SSA</td>\n",
       "      <td>CIUDAD DE MÉXICO</td>\n",
       "      <td>MUJER</td>\n",
       "      <td>MÉXICO</td>\n",
       "      <td>MÉXICO</td>\n",
       "      <td>MOYAHUA DE ESTRADA</td>\n",
       "      <td>AMBULATORIO</td>\n",
       "      <td>2021-02-27</td>\n",
       "      <td>2021-02-26</td>\n",
       "      <td>...</td>\n",
       "      <td>SE IGNORA</td>\n",
       "      <td>SE IGNORA</td>\n",
       "      <td>SE IGNORA</td>\n",
       "      <td>SI</td>\n",
       "      <td>NO POSITIVO A SARS-COV-2</td>\n",
       "      <td>NO APLICA (CASO SIN MUESTRA)</td>\n",
       "      <td>POSITIVO A SARS-COV-2</td>\n",
       "      <td>NEGATIVO A SARS-COV-2</td>\n",
       "      <td>NEGATIVO A SARS-COV-2</td>\n",
       "      <td>NO APLICA</td>\n",
       "    </tr>\n",
       "    <tr>\n",
       "      <th>5453319</th>\n",
       "      <td>USMER</td>\n",
       "      <td>ISSSTE</td>\n",
       "      <td>VERACRUZ DE IGNACIO DE LA LLAVE</td>\n",
       "      <td>HOMBRE</td>\n",
       "      <td>OAXACA</td>\n",
       "      <td>VERACRUZ DE IGNACIO DE LA LLAVE</td>\n",
       "      <td>TIERRA BLANCA</td>\n",
       "      <td>HOSPITALIZADO</td>\n",
       "      <td>2021-02-27</td>\n",
       "      <td>2021-02-26</td>\n",
       "      <td>...</td>\n",
       "      <td>SE IGNORA</td>\n",
       "      <td>SE IGNORA</td>\n",
       "      <td>SE IGNORA</td>\n",
       "      <td>NO</td>\n",
       "      <td>POSITIVO A SARS-COV-2</td>\n",
       "      <td>RESULTADO PENDIENTE</td>\n",
       "      <td>POSITIVO A SARS-COV-2</td>\n",
       "      <td>POSITIVO A SARS-COV-2</td>\n",
       "      <td>CASO DE SARS-COV-2  CONFIRMADO</td>\n",
       "      <td>NO</td>\n",
       "    </tr>\n",
       "    <tr>\n",
       "      <th>5453320</th>\n",
       "      <td>FUERA DE USMER</td>\n",
       "      <td>SSA</td>\n",
       "      <td>CIUDAD DE MÉXICO</td>\n",
       "      <td>HOMBRE</td>\n",
       "      <td>VERACRUZ DE IGNACIO DE LA LLAVE</td>\n",
       "      <td>CIUDAD DE MÉXICO</td>\n",
       "      <td>GENARO CODINA</td>\n",
       "      <td>AMBULATORIO</td>\n",
       "      <td>2021-02-26</td>\n",
       "      <td>2021-02-24</td>\n",
       "      <td>...</td>\n",
       "      <td>SE IGNORA</td>\n",
       "      <td>SE IGNORA</td>\n",
       "      <td>SE IGNORA</td>\n",
       "      <td>NO</td>\n",
       "      <td>NO POSITIVO A SARS-COV-2</td>\n",
       "      <td>NO APLICA (CASO SIN MUESTRA)</td>\n",
       "      <td>POSITIVO A SARS-COV-2</td>\n",
       "      <td>NEGATIVO A SARS-COV-2</td>\n",
       "      <td>NEGATIVO A SARS-COV-2</td>\n",
       "      <td>NO APLICA</td>\n",
       "    </tr>\n",
       "    <tr>\n",
       "      <th>5453321</th>\n",
       "      <td>FUERA DE USMER</td>\n",
       "      <td>SSA</td>\n",
       "      <td>CIUDAD DE MÉXICO</td>\n",
       "      <td>MUJER</td>\n",
       "      <td>CIUDAD DE MÉXICO</td>\n",
       "      <td>CIUDAD DE MÉXICO</td>\n",
       "      <td>CALERA</td>\n",
       "      <td>AMBULATORIO</td>\n",
       "      <td>2021-01-21</td>\n",
       "      <td>2021-01-16</td>\n",
       "      <td>...</td>\n",
       "      <td>SE IGNORA</td>\n",
       "      <td>SE IGNORA</td>\n",
       "      <td>SE IGNORA</td>\n",
       "      <td>NO</td>\n",
       "      <td>NO POSITIVO A SARS-COV-2</td>\n",
       "      <td>NO APLICA (CASO SIN MUESTRA)</td>\n",
       "      <td>POSITIVO A SARS-COV-2</td>\n",
       "      <td>NEGATIVO A SARS-COV-2</td>\n",
       "      <td>NEGATIVO A SARS-COV-2</td>\n",
       "      <td>NO APLICA</td>\n",
       "    </tr>\n",
       "  </tbody>\n",
       "</table>\n",
       "<p>5453322 rows × 35 columns</p>\n",
       "</div>"
      ],
      "text/plain": [
       "                 ORIGEN  SECTOR                       ENTIDAD_UM    SEXO  \\\n",
       "0                 USMER     SSA                 CIUDAD DE MÉXICO  HOMBRE   \n",
       "1                 USMER     SSA                     QUINTANA ROO   MUJER   \n",
       "2                 USMER     SSA                        QUERÉTARO  HOMBRE   \n",
       "3                 USMER     SSA                 CIUDAD DE MÉXICO   MUJER   \n",
       "4                 USMER     SSA                 CIUDAD DE MÉXICO  HOMBRE   \n",
       "...                 ...     ...                              ...     ...   \n",
       "5453317  FUERA DE USMER    IMSS                          JALISCO   MUJER   \n",
       "5453318  FUERA DE USMER     SSA                 CIUDAD DE MÉXICO   MUJER   \n",
       "5453319           USMER  ISSSTE  VERACRUZ DE IGNACIO DE LA LLAVE  HOMBRE   \n",
       "5453320  FUERA DE USMER     SSA                 CIUDAD DE MÉXICO  HOMBRE   \n",
       "5453321  FUERA DE USMER     SSA                 CIUDAD DE MÉXICO   MUJER   \n",
       "\n",
       "                             ENTIDAD_NAC                      ENTIDAD_RES  \\\n",
       "0                       CIUDAD DE MÉXICO                 CIUDAD DE MÉXICO   \n",
       "1                           QUINTANA ROO                     QUINTANA ROO   \n",
       "2                        SAN LUIS POTOSÍ                        QUERÉTARO   \n",
       "3                       CIUDAD DE MÉXICO                 CIUDAD DE MÉXICO   \n",
       "4                       CIUDAD DE MÉXICO                 CIUDAD DE MÉXICO   \n",
       "...                                  ...                              ...   \n",
       "5453317                          JALISCO                          JALISCO   \n",
       "5453318                           MÉXICO                           MÉXICO   \n",
       "5453319                           OAXACA  VERACRUZ DE IGNACIO DE LA LLAVE   \n",
       "5453320  VERACRUZ DE IGNACIO DE LA LLAVE                 CIUDAD DE MÉXICO   \n",
       "5453321                 CIUDAD DE MÉXICO                 CIUDAD DE MÉXICO   \n",
       "\n",
       "              MUNICIPIO_RES  TIPO_PACIENTE FECHA_INGRESO FECHA_SINTOMAS  ...  \\\n",
       "0             GENARO CODINA    AMBULATORIO    2020-10-16     2020-10-16  ...   \n",
       "1             BENITO JUÁREZ  HOSPITALIZADO    2020-07-20     2020-07-17  ...   \n",
       "2             CHALCHIHUITES    AMBULATORIO    2021-01-05     2021-01-05  ...   \n",
       "3                 FRESNILLO    AMBULATORIO    2020-10-15     2020-10-15  ...   \n",
       "4                    APULCO    AMBULATORIO    2020-04-16     2020-04-10  ...   \n",
       "...                     ...            ...           ...            ...  ...   \n",
       "5453317             TAHDZIÚ  HOSPITALIZADO    2021-02-26     2021-02-20  ...   \n",
       "5453318  MOYAHUA DE ESTRADA    AMBULATORIO    2021-02-27     2021-02-26  ...   \n",
       "5453319       TIERRA BLANCA  HOSPITALIZADO    2021-02-27     2021-02-26  ...   \n",
       "5453320       GENARO CODINA    AMBULATORIO    2021-02-26     2021-02-24  ...   \n",
       "5453321              CALERA    AMBULATORIO    2021-01-21     2021-01-16  ...   \n",
       "\n",
       "          OBESIDAD RENAL_CRONICA TABAQUISMO OTRO_CASO  \\\n",
       "0               NO            NO         NO        NO   \n",
       "1               SI            NO         NO        SI   \n",
       "2        SE IGNORA            NO         NO        NO   \n",
       "3               NO            NO         NO        SI   \n",
       "4               NO            NO         NO        NO   \n",
       "...            ...           ...        ...       ...   \n",
       "5453317  SE IGNORA     SE IGNORA  SE IGNORA        NO   \n",
       "5453318  SE IGNORA     SE IGNORA  SE IGNORA        SI   \n",
       "5453319  SE IGNORA     SE IGNORA  SE IGNORA        NO   \n",
       "5453320  SE IGNORA     SE IGNORA  SE IGNORA        NO   \n",
       "5453321  SE IGNORA     SE IGNORA  SE IGNORA        NO   \n",
       "\n",
       "                 TOMA_MUESTRA_LAB                 RESULTADO_LAB  \\\n",
       "0        NO POSITIVO A SARS-COV-2  NO APLICA (CASO SIN MUESTRA)   \n",
       "1        NO POSITIVO A SARS-COV-2  NO APLICA (CASO SIN MUESTRA)   \n",
       "2        NO POSITIVO A SARS-COV-2  NO APLICA (CASO SIN MUESTRA)   \n",
       "3           POSITIVO A SARS-COV-2      NO POSITIVO A SARS-COV-2   \n",
       "4        NO POSITIVO A SARS-COV-2  NO APLICA (CASO SIN MUESTRA)   \n",
       "...                           ...                           ...   \n",
       "5453317     POSITIVO A SARS-COV-2           RESULTADO PENDIENTE   \n",
       "5453318  NO POSITIVO A SARS-COV-2  NO APLICA (CASO SIN MUESTRA)   \n",
       "5453319     POSITIVO A SARS-COV-2           RESULTADO PENDIENTE   \n",
       "5453320  NO POSITIVO A SARS-COV-2  NO APLICA (CASO SIN MUESTRA)   \n",
       "5453321  NO POSITIVO A SARS-COV-2  NO APLICA (CASO SIN MUESTRA)   \n",
       "\n",
       "         TOMA_MUESTRA_ANTIGENO            RESULTADO_ANTIGENO  \\\n",
       "0        NEGATIVO A SARS-COV-2  NO APLICA (CASO SIN MUESTRA)   \n",
       "1        NEGATIVO A SARS-COV-2  NO APLICA (CASO SIN MUESTRA)   \n",
       "2        NEGATIVO A SARS-COV-2  NO APLICA (CASO SIN MUESTRA)   \n",
       "3        NEGATIVO A SARS-COV-2  NO APLICA (CASO SIN MUESTRA)   \n",
       "4        NEGATIVO A SARS-COV-2  NO APLICA (CASO SIN MUESTRA)   \n",
       "...                        ...                           ...   \n",
       "5453317  NEGATIVO A SARS-COV-2  NO APLICA (CASO SIN MUESTRA)   \n",
       "5453318  POSITIVO A SARS-COV-2         NEGATIVO A SARS-COV-2   \n",
       "5453319  POSITIVO A SARS-COV-2         POSITIVO A SARS-COV-2   \n",
       "5453320  POSITIVO A SARS-COV-2         NEGATIVO A SARS-COV-2   \n",
       "5453321  POSITIVO A SARS-COV-2         NEGATIVO A SARS-COV-2   \n",
       "\n",
       "                                       CLASIFICACION_FINAL        UCI  \n",
       "0        CASO DE COVID-19 CONFIRMADO POR ASOCIACIÓN CLÍ...  NO APLICA  \n",
       "1        CASO DE COVID-19 CONFIRMADO POR COMITÉ DE  DIC...         SI  \n",
       "2                                          CASO SOSPECHOSO  NO APLICA  \n",
       "3                                    NEGATIVO A SARS-COV-2  NO APLICA  \n",
       "4                                          CASO SOSPECHOSO  NO APLICA  \n",
       "...                                                    ...        ...  \n",
       "5453317                                    CASO SOSPECHOSO         NO  \n",
       "5453318                              NEGATIVO A SARS-COV-2  NO APLICA  \n",
       "5453319                     CASO DE SARS-COV-2  CONFIRMADO         NO  \n",
       "5453320                              NEGATIVO A SARS-COV-2  NO APLICA  \n",
       "5453321                              NEGATIVO A SARS-COV-2  NO APLICA  \n",
       "\n",
       "[5453322 rows x 35 columns]"
      ]
     },
     "execution_count": 20,
     "metadata": {},
     "output_type": "execute_result"
    }
   ],
   "source": [
    "datosCovid"
   ]
  },
  {
   "cell_type": "markdown",
   "metadata": {},
   "source": [
    "### Exploración de los datos"
   ]
  },
  {
   "cell_type": "markdown",
   "metadata": {},
   "source": [
    "Ahora, ya que tenemos los datos limpios y con campos con mejor descripción, podemos agruparlos para hacer analisis exploratorio sencillos y más fácilmente. Por ejemplo:"
   ]
  },
  {
   "cell_type": "code",
   "execution_count": 21,
   "metadata": {
    "id": "fsT9MGba1NJU"
   },
   "outputs": [
    {
     "data": {
      "text/plain": [
       "<AxesSubplot:>"
      ]
     },
     "execution_count": 21,
     "metadata": {},
     "output_type": "execute_result"
    },
    {
     "data": {
      "image/png": "[encoded data removed]",
      "text/plain": [
       "<Figure size 432x288 with 1 Axes>"
      ]
     },
     "metadata": {
      "needs_background": "light"
     },
     "output_type": "display_data"
    }
   ],
   "source": [
    "datosCovid['SECTOR'].value_counts().plot.bar()"
   ]
  },
  {
   "cell_type": "code",
   "execution_count": 34,
   "metadata": {
    "id": "7sOUNrMz1NJV"
   },
   "outputs": [
    {
     "data": {
      "text/plain": [
       "<AxesSubplot:xlabel='SECTOR,CLASIFICACION_FINAL'>"
      ]
     },
     "execution_count": 34,
     "metadata": {},
     "output_type": "execute_result"
    },
    {
     "data": {
      "image/png": "[encoded data removed]",
      "text/plain": [
       "<Figure size 432x288 with 1 Axes>"
      ]
     },
     "metadata": {
      "needs_background": "light"
     },
     "output_type": "display_data"
    }
   ],
   "source": [
    "casos=datosCovid.loc[:,['SECTOR','CLASIFICACION_FINAL']]\n",
    "casos=casos[casos['CLASIFICACION_FINAL']=='CASO DE SARS-COV-2  CONFIRMADO']\n",
    "casos.groupby('SECTOR')['CLASIFICACION_FINAL'].value_counts().plot.bar()"
   ]
  },
  {
   "cell_type": "code",
   "execution_count": 23,
   "metadata": {},
   "outputs": [
    {
     "data": {
      "text/plain": [
       "<AxesSubplot:ylabel='SEXO'>"
      ]
     },
     "execution_count": 23,
     "metadata": {},
     "output_type": "execute_result"
    },
    {
     "data": {
      "image/png": "[encoded data removed]",
      "text/plain": [
       "<Figure size 432x288 with 1 Axes>"
      ]
     },
     "metadata": {},
     "output_type": "display_data"
    }
   ],
   "source": [
    "datosCovid['SEXO'].value_counts().plot.pie(autopct='%1.1f%%')"
   ]
  },
  {
   "cell_type": "code",
   "execution_count": 24,
   "metadata": {},
   "outputs": [
    {
     "data": {
      "text/plain": [
       "<AxesSubplot:>"
      ]
     },
     "execution_count": 24,
     "metadata": {},
     "output_type": "execute_result"
    },
    {
     "data": {
      "image/png": "[encoded data removed]",
      "text/plain": [
       "<Figure size 432x288 with 1 Axes>"
      ]
     },
     "metadata": {
      "needs_background": "light"
     },
     "output_type": "display_data"
    }
   ],
   "source": [
    "datosCovid['ENTIDAD_UM'].value_counts().plot.bar()"
   ]
  },
  {
   "cell_type": "code",
   "execution_count": 35,
   "metadata": {},
   "outputs": [
    {
     "data": {
      "text/plain": [
       "(array([-50.,   0.,  50., 100., 150., 200., 250., 300., 350., 400.]),\n",
       " [Text(-50.0, 0, '(2021-01-09 00:00:00, CASO DE SARS-COV-2  CONFIRMADO)'),\n",
       "  Text(0.0, 0, '(2020-01-27 00:00:00, CASO DE SARS-COV-2  CONFIRMADO)'),\n",
       "  Text(50.0, 0, '(2020-04-10 00:00:00, CASO DE SARS-COV-2  CONFIRMADO)'),\n",
       "  Text(100.0, 0, '(2020-05-30 00:00:00, CASO DE SARS-COV-2  CONFIRMADO)'),\n",
       "  Text(150.0, 0, '(2020-07-19 00:00:00, CASO DE SARS-COV-2  CONFIRMADO)'),\n",
       "  Text(200.0, 0, '(2020-09-07 00:00:00, CASO DE SARS-COV-2  CONFIRMADO)'),\n",
       "  Text(250.0, 0, '(2020-10-27 00:00:00, CASO DE SARS-COV-2  CONFIRMADO)'),\n",
       "  Text(300.0, 0, '(2020-12-16 00:00:00, CASO DE SARS-COV-2  CONFIRMADO)'),\n",
       "  Text(350.0, 0, '(2021-02-04 00:00:00, CASO DE SARS-COV-2  CONFIRMADO)'),\n",
       "  Text(400.0, 0, '')])"
      ]
     },
     "execution_count": 35,
     "metadata": {},
     "output_type": "execute_result"
    },
    {
     "data": {
      "image/png": "[encoded data removed]",
      "text/plain": [
       "<Figure size 432x288 with 1 Axes>"
      ]
     },
     "metadata": {
      "needs_background": "light"
     },
     "output_type": "display_data"
    }
   ],
   "source": [
    "casosPositivos=datosCovid.loc[:,['FECHA_SINTOMAS','CLASIFICACION_FINAL']]\n",
    "casosPositivos=casosPositivos[casosPositivos['CLASIFICACION_FINAL']=='CASO DE SARS-COV-2  CONFIRMADO']\n",
    "casosPositivos.groupby('FECHA_SINTOMAS')['CLASIFICACION_FINAL'].value_counts().plot.line(title='SERIE CASOS POSITIVOS',ylabel='Contabilidad',xlabel='Fechas')\n",
    "plt.xticks(rotation =90)"
   ]
  },
  {
   "cell_type": "markdown",
   "metadata": {},
   "source": [
    "### Trabajo a futuro\n",
    "Ya que hemos conseguido un dataset mas concreto y descriptivo, podemos sacar varios análisis exploratorio y hacer modelos para predecir resultados, que resulta lo mas interesante de obtener frente a la pandemia actual.\n",
    "Con el trabajo anterior, podriamos hacer los siguientes analisis:\n",
    "+ Con base a las cormorbolidades, ¿Cuáles son las mas significativas respecto al indice de fallecimiento de infectados?\n",
    "+ Usando un modelo de regresión lineal, ¿ Cuáles son los infectados que se podrían predecir para la siguiente semana?\n",
    "+ De acuerdo al indice de fallecimiento, ¿Qué sector u hospitales son los que han tenido mas número de fallecimiento? (De ahí, sacar conclusiones del servicio que se ofrecen en ellos)\n",
    "+ Crear mapa de infectados de acuerdo a su significancia\n",
    "+ Usar un modelo de regresión logistica para predecir, de acuerdo a las cormorbolidades del paciente, su indice de probabilidad de fallecimiento\n",
    "  \n",
    "Entre otras posibilidades con la base bonita que logramos"
   ]
  },
  {
   "cell_type": "code",
   "execution_count": null,
   "metadata": {},
   "outputs": [],
   "source": []
  },
  {
   "cell_type": "code",
   "execution_count": null,
   "metadata": {},
   "outputs": [],
   "source": []
  },
  {
   "cell_type": "code",
   "execution_count": null,
   "metadata": {},
   "outputs": [],
   "source": []
  },
  {
   "cell_type": "code",
   "execution_count": null,
   "metadata": {},
   "outputs": [],
   "source": []
  },
  {
   "cell_type": "code",
   "execution_count": null,
   "metadata": {},
   "outputs": [],
   "source": []
  },
  {
   "cell_type": "code",
   "execution_count": null,
   "metadata": {},
   "outputs": [],
   "source": []
  },
  {
   "cell_type": "code",
   "execution_count": null,
   "metadata": {},
   "outputs": [],
   "source": []
  },
  {
   "cell_type": "code",
   "execution_count": null,
   "metadata": {},
   "outputs": [],
   "source": []
  },
  {
   "cell_type": "code",
   "execution_count": null,
   "metadata": {},
   "outputs": [],
   "source": []
  },
  {
   "cell_type": "code",
   "execution_count": null,
   "metadata": {},
   "outputs": [],
   "source": []
  }
 ],
 "metadata": {
  "colab": {
   "name": "Copia de covidProyecto.ipynb",
   "provenance": []
  },
  "kernelspec": {
   "display_name": "Python 3",
   "language": "python",
   "name": "python3"
  },
  "language_info": {
   "codemirror_mode": {
    "name": "ipython",
    "version": 3
   },
   "file_extension": ".py",
   "mimetype": "text/x-python",
   "name": "python",
   "nbconvert_exporter": "python",
   "pygments_lexer": "ipython3",
   "version": "3.8.5"
  }
 },
 "nbformat": 4,
 "nbformat_minor": 4
}
